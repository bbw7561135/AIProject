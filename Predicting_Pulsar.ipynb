{
  "nbformat": 4,
  "nbformat_minor": 0,
  "metadata": {
    "colab": {
      "name": "Predicting Pulsar.ipynb",
      "version": "0.3.2",
      "provenance": [],
      "collapsed_sections": []
    },
    "kernelspec": {
      "name": "python3",
      "display_name": "Python 3"
    }
  },
  "cells": [
    {
      "cell_type": "code",
      "metadata": {
        "id": "AVZNXIp9fMf1",
        "colab_type": "code",
        "outputId": "3a84be50-6773-4e77-95ab-9ca560d8dad1",
        "colab": {
          "resources": {
            "http://localhost:8080/nbextensions/google.colab/files.js": {
              "data": "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",
              "ok": true,
              "headers": [
                [
                  "content-type",
                  "application/javascript"
                ]
              ],
              "status": 200,
              "status_text": ""
            }
          },
          "base_uri": "https://localhost:8080/",
          "height": 75
        }
      },
      "source": [
        "from google.colab import files\n",
        "uploaded = files.upload()\n"
      ],
      "execution_count": 0,
      "outputs": [
        {
          "output_type": "display_data",
          "data": {
            "text/html": [
              "\n",
              "     <input type=\"file\" id=\"files-d44cc58e-1001-4aa3-bf37-309a39fe168b\" name=\"files[]\" multiple disabled />\n",
              "     <output id=\"result-d44cc58e-1001-4aa3-bf37-309a39fe168b\">\n",
              "      Upload widget is only available when the cell has been executed in the\n",
              "      current browser session. Please rerun this cell to enable.\n",
              "      </output>\n",
              "      <script src=\"/nbextensions/google.colab/files.js\"></script> "
            ],
            "text/plain": [
              "<IPython.core.display.HTML object>"
            ]
          },
          "metadata": {
            "tags": []
          }
        },
        {
          "output_type": "stream",
          "text": [
            "Saving HTRU_2.csv to HTRU_2.csv\n"
          ],
          "name": "stdout"
        }
      ]
    },
    {
      "cell_type": "code",
      "metadata": {
        "id": "6bDuU58rgIj6",
        "colab_type": "code",
        "colab": {}
      },
      "source": [
        "from keras.models import Sequential\n",
        "from keras.layers import Dense\n",
        "import numpy as np\n",
        "import matplotlib.pyplot as plt\n",
        "\n",
        "ds = np.loadtxt(\"pulsar_stars.csv\", delimiter = \",\", skiprows =1)\n",
        "ts = np.loadtxt(\"HTRU_2.csv\", delimiter = \",\", skiprows =1)\n"
      ],
      "execution_count": 0,
      "outputs": []
    },
    {
      "cell_type": "code",
      "metadata": {
        "id": "lj82QIwSpCUq",
        "colab_type": "code",
        "outputId": "72a1a0d3-5ca2-435e-f29a-7bf691ef2338",
        "colab": {
          "base_uri": "https://localhost:8080/",
          "height": 568
        }
      },
      "source": [
        "print(ds[0:5])\n",
        "print(\"------------------------------------------------------------------------------------\")\n",
        "print(ts[0:5])"
      ],
      "execution_count": 0,
      "outputs": [
        {
          "output_type": "stream",
          "text": [
            "[[ 1.40562500e+02  5.56837821e+01 -2.34571412e-01 -6.99648398e-01\n",
            "   3.19983278e+00  1.91104263e+01  7.97553179e+00  7.42422249e+01\n",
            "   0.00000000e+00]\n",
            " [ 1.02507812e+02  5.88824300e+01  4.65318154e-01 -5.15087909e-01\n",
            "   1.67725752e+00  1.48601457e+01  1.05764867e+01  1.27393580e+02\n",
            "   0.00000000e+00]\n",
            " [ 1.03015625e+02  3.93416494e+01  3.23328365e-01  1.05116443e+00\n",
            "   3.12123746e+00  2.17446687e+01  7.73582202e+00  6.31719091e+01\n",
            "   0.00000000e+00]\n",
            " [ 1.36750000e+02  5.71784487e+01 -6.84146380e-02 -6.36238369e-01\n",
            "   3.64297659e+00  2.09592803e+01  6.89649891e+00  5.35936607e+01\n",
            "   0.00000000e+00]\n",
            " [ 8.87265625e+01  4.06722254e+01  6.00866079e-01  1.12349169e+00\n",
            "   1.17892977e+00  1.14687196e+01  1.42695728e+01  2.52567306e+02\n",
            "   0.00000000e+00]]\n",
            "------------------------------------------------------------------------------------\n",
            "[[ 1.02507812e+02  5.88824300e+01  4.65318154e-01 -5.15087909e-01\n",
            "   1.67725752e+00  1.48601457e+01  1.05764867e+01  1.27393580e+02\n",
            "   0.00000000e+00]\n",
            " [ 1.03015625e+02  3.93416494e+01  3.23328365e-01  1.05116443e+00\n",
            "   3.12123746e+00  2.17446687e+01  7.73582202e+00  6.31719091e+01\n",
            "   0.00000000e+00]\n",
            " [ 1.36750000e+02  5.71784487e+01 -6.84146380e-02 -6.36238369e-01\n",
            "   3.64297659e+00  2.09592803e+01  6.89649891e+00  5.35936607e+01\n",
            "   0.00000000e+00]\n",
            " [ 8.87265625e+01  4.06722254e+01  6.00866079e-01  1.12349169e+00\n",
            "   1.17892977e+00  1.14687196e+01  1.42695728e+01  2.52567306e+02\n",
            "   0.00000000e+00]\n",
            " [ 9.35703125e+01  4.66981135e+01  5.31904850e-01  4.16721117e-01\n",
            "   1.63628763e+00  1.45450743e+01  1.06217484e+01  1.31394004e+02\n",
            "   0.00000000e+00]]\n"
          ],
          "name": "stdout"
        }
      ]
    },
    {
      "cell_type": "code",
      "metadata": {
        "id": "m0zUMhXxl0nu",
        "colab_type": "code",
        "outputId": "c46089c9-58e5-457c-f425-1bcd14a630e7",
        "colab": {
          "base_uri": "https://localhost:8080/",
          "height": 52
        }
      },
      "source": [
        "print(ds.shape)\n",
        "print(ts.shape)"
      ],
      "execution_count": 0,
      "outputs": [
        {
          "output_type": "stream",
          "text": [
            "(17898, 9)\n",
            "(17897, 9)\n"
          ],
          "name": "stdout"
        }
      ]
    },
    {
      "cell_type": "code",
      "metadata": {
        "id": "aJS3q-6RjNn9",
        "colab_type": "code",
        "outputId": "40e28ce8-83cd-4ca6-9885-77630af2adf2",
        "colab": {
          "base_uri": "https://localhost:8080/",
          "height": 550
        }
      },
      "source": [
        "print(ds[0:10,:])"
      ],
      "execution_count": 0,
      "outputs": [
        {
          "output_type": "stream",
          "text": [
            "[[ 1.40562500e+02  5.56837821e+01 -2.34571412e-01 -6.99648398e-01\n",
            "   3.19983278e+00  1.91104263e+01  7.97553179e+00  7.42422249e+01\n",
            "   0.00000000e+00]\n",
            " [ 1.02507812e+02  5.88824300e+01  4.65318154e-01 -5.15087909e-01\n",
            "   1.67725752e+00  1.48601457e+01  1.05764867e+01  1.27393580e+02\n",
            "   0.00000000e+00]\n",
            " [ 1.03015625e+02  3.93416494e+01  3.23328365e-01  1.05116443e+00\n",
            "   3.12123746e+00  2.17446687e+01  7.73582202e+00  6.31719091e+01\n",
            "   0.00000000e+00]\n",
            " [ 1.36750000e+02  5.71784487e+01 -6.84146380e-02 -6.36238369e-01\n",
            "   3.64297659e+00  2.09592803e+01  6.89649891e+00  5.35936607e+01\n",
            "   0.00000000e+00]\n",
            " [ 8.87265625e+01  4.06722254e+01  6.00866079e-01  1.12349169e+00\n",
            "   1.17892977e+00  1.14687196e+01  1.42695728e+01  2.52567306e+02\n",
            "   0.00000000e+00]\n",
            " [ 9.35703125e+01  4.66981135e+01  5.31904850e-01  4.16721117e-01\n",
            "   1.63628763e+00  1.45450743e+01  1.06217484e+01  1.31394004e+02\n",
            "   0.00000000e+00]\n",
            " [ 1.19484375e+02  4.87650593e+01  3.14602200e-02 -1.12167573e-01\n",
            "   9.99163880e-01  9.27961224e+00  1.92062302e+01  4.79756567e+02\n",
            "   0.00000000e+00]\n",
            " [ 1.30382812e+02  3.98440556e+01 -1.58322759e-01  3.89540448e-01\n",
            "   1.22073579e+00  1.43789412e+01  1.35394560e+01  1.98236457e+02\n",
            "   0.00000000e+00]\n",
            " [ 1.07250000e+02  5.26270783e+01  4.52688025e-01  1.70347382e-01\n",
            "   2.33193980e+00  1.44868531e+01  9.00100444e+00  1.07972506e+02\n",
            "   0.00000000e+00]\n",
            " [ 1.07257812e+02  3.94964884e+01  4.65881961e-01  1.16287712e+00\n",
            "   4.07943144e+00  2.49804180e+01  7.39707995e+00  5.77847379e+01\n",
            "   0.00000000e+00]]\n"
          ],
          "name": "stdout"
        }
      ]
    },
    {
      "cell_type": "code",
      "metadata": {
        "id": "H9LCJssyjqt9",
        "colab_type": "code",
        "outputId": "c0ea51cf-f7ed-4567-d9e2-0be3f2c47983",
        "colab": {
          "base_uri": "https://localhost:8080/",
          "height": 52
        }
      },
      "source": [
        "print(np.max(ds[:,8]))\n",
        "print(np.min(ds[:,8]))"
      ],
      "execution_count": 0,
      "outputs": [
        {
          "output_type": "stream",
          "text": [
            "1.0\n",
            "0.0\n"
          ],
          "name": "stdout"
        }
      ]
    },
    {
      "cell_type": "markdown",
      "metadata": {
        "id": "cB0b_ZaokQUI",
        "colab_type": "text"
      },
      "source": [
        "**Now, We split the data**"
      ]
    },
    {
      "cell_type": "code",
      "metadata": {
        "id": "PdM1UFPTkWou",
        "colab_type": "code",
        "outputId": "b96524e0-7c88-4a5d-b5de-b196cab88181",
        "colab": {
          "base_uri": "https://localhost:8080/",
          "height": 52
        }
      },
      "source": [
        "ds_train = ds[0:8949,:]\n",
        "ds_test = ds[8949:,:]\n",
        "ts_test = ts[0:30,:]\n",
        "print(ds_train.shape)\n",
        "print(ds_test.shape)"
      ],
      "execution_count": 0,
      "outputs": [
        {
          "output_type": "stream",
          "text": [
            "(8949, 9)\n",
            "(8949, 9)\n"
          ],
          "name": "stdout"
        }
      ]
    },
    {
      "cell_type": "code",
      "metadata": {
        "id": "_sYeryhAk1ad",
        "colab_type": "code",
        "outputId": "04c4e993-c15a-444c-873b-62c2d0849b2c",
        "colab": {
          "base_uri": "https://localhost:8080/",
          "height": 500
        }
      },
      "source": [
        "plt.figure(figsize=(8,8))\n",
        "plt.plot(ds_train[:,0],ds_test[:,7],'.')\n",
        "plt.xlabel(\"Mean\")\n",
        "plt.ylabel(\"Pulsar probaiblity\")\n",
        "plt.show()"
      ],
      "execution_count": 0,
      "outputs": [
        {
          "output_type": "display_data",
          "data": {
            "image/png": "[encoded data removed]",
            "text/plain": [
              "<Figure size 576x576 with 1 Axes>"
            ]
          },
          "metadata": {
            "tags": []
          }
        }
      ]
    },
    {
      "cell_type": "code",
      "metadata": {
        "id": "1EA6oBDYl3y0",
        "colab_type": "code",
        "outputId": "6d29f50b-542c-4dda-cc59-402813066b61",
        "colab": {
          "base_uri": "https://localhost:8080/",
          "height": 35
        }
      },
      "source": [
        "x_train = ds_train[:,0:8]\n",
        "y_train = ds_train[:,8]\n",
        "x_test = ds_test[:,0:8]\n",
        "y_test = ds_test[:,8]\n",
        "ts_test_y = ts_test[:,8]\n",
        "ts_test_x = ts_test[:,0:8]\n",
        "print(\"X and Y data is split\")"
      ],
      "execution_count": 0,
      "outputs": [
        {
          "output_type": "stream",
          "text": [
            "X and Y data is split\n"
          ],
          "name": "stdout"
        }
      ]
    },
    {
      "cell_type": "code",
      "metadata": {
        "id": "lrk4GW2pm23B",
        "colab_type": "code",
        "outputId": "9c5c06e3-0060-4e79-db90-e3a20a53a146",
        "colab": {
          "base_uri": "https://localhost:8080/",
          "height": 88
        }
      },
      "source": [
        "print(x_train.shape)\n",
        "print(x_test.shape)\n",
        "print(y_train.shape)\n",
        "print(y_test.shape)"
      ],
      "execution_count": 0,
      "outputs": [
        {
          "output_type": "stream",
          "text": [
            "(8949, 8)\n",
            "(8949, 8)\n",
            "(8949,)\n",
            "(8949,)\n"
          ],
          "name": "stdout"
        }
      ]
    },
    {
      "cell_type": "markdown",
      "metadata": {
        "id": "8vP-Q_1xqCvz",
        "colab_type": "text"
      },
      "source": [
        "Normalizing the data"
      ]
    },
    {
      "cell_type": "code",
      "metadata": {
        "id": "eL_EzNe3nDe1",
        "colab_type": "code",
        "colab": {}
      },
      "source": [
        "mean = x_train.mean(axis=0)\n",
        "x_train -= mean\n",
        "std = x_train.std(axis=0)\n",
        "x_train /= std\n",
        "\n",
        "x_test -= mean\n",
        "x_test /= std\n",
        "\n",
        "mean = ts_test_x.mean(axis=0)\n",
        "ts_test_x -= mean\n",
        "std = ts_test_x.std(axis=0)\n",
        "ts_test_x /= std"
      ],
      "execution_count": 0,
      "outputs": []
    },
    {
      "cell_type": "code",
      "metadata": {
        "id": "RM4qXx2iqFI6",
        "colab_type": "code",
        "outputId": "7abb7cee-7062-4b25-c8fe-7d315a105d15",
        "colab": {
          "base_uri": "https://localhost:8080/",
          "height": 266
        }
      },
      "source": [
        "model = Sequential()\n",
        "model.add(Dense(12,input_dim = 8, activation = \"linear\"))\n",
        "model.add(Dense(8, activation='relu'))\n",
        "model.add(Dense(1, activation='linear'))\n",
        "print(model.summary())"
      ],
      "execution_count": 0,
      "outputs": [
        {
          "output_type": "stream",
          "text": [
            "_________________________________________________________________\n",
            "Layer (type)                 Output Shape              Param #   \n",
            "=================================================================\n",
            "dense_10 (Dense)             (None, 12)                108       \n",
            "_________________________________________________________________\n",
            "dense_11 (Dense)             (None, 12)                156       \n",
            "_________________________________________________________________\n",
            "dense_12 (Dense)             (None, 1)                 13        \n",
            "=================================================================\n",
            "Total params: 277\n",
            "Trainable params: 277\n",
            "Non-trainable params: 0\n",
            "_________________________________________________________________\n",
            "None\n"
          ],
          "name": "stdout"
        }
      ]
    },
    {
      "cell_type": "code",
      "metadata": {
        "id": "4rumnbs3qcVb",
        "colab_type": "code",
        "colab": {}
      },
      "source": [
        "model.compile(loss='mse', optimizer='sgd', metrics=['mae'])"
      ],
      "execution_count": 0,
      "outputs": []
    },
    {
      "cell_type": "code",
      "metadata": {
        "id": "sqqEerUSqusV",
        "colab_type": "code",
        "outputId": "a82138f2-1dbe-4e48-8f5a-902befb2f51e",
        "colab": {
          "base_uri": "https://localhost:8080/",
          "height": 9155
        }
      },
      "source": [
        "history = model.fit(x_train,y_train,epochs = 256, verbose=1,batch_size =32,validation_data=(x_test,y_test))\n",
        "score = model.evaluate(ts_test_x, ts_test_y, verbose=0)\n",
        "print('Test accuarcy: {:0.2f}%'.format(score[1] * 100))"
      ],
      "execution_count": 0,
      "outputs": [
        {
          "output_type": "stream",
          "text": [
            "Train on 8949 samples, validate on 8949 samples\n",
            "Epoch 1/256\n",
            "8949/8949 [==============================] - 1s 70us/step - loss: 0.0822 - mean_absolute_error: 0.1486 - val_loss: 0.0254 - val_mean_absolute_error: 0.0930\n",
            "Epoch 2/256\n",
            "8949/8949 [==============================] - 0s 48us/step - loss: 0.0389 - mean_absolute_error: 0.1096 - val_loss: 0.0213 - val_mean_absolute_error: 0.0819\n",
            "Epoch 3/256\n",
            "8949/8949 [==============================] - 0s 47us/step - loss: 0.0358 - mean_absolute_error: 0.1028 - val_loss: 0.0205 - val_mean_absolute_error: 0.0788\n",
            "Epoch 4/256\n",
            "8949/8949 [==============================] - 0s 50us/step - loss: 0.0337 - mean_absolute_error: 0.0978 - val_loss: 0.0190 - val_mean_absolute_error: 0.0750\n",
            "Epoch 5/256\n",
            "8949/8949 [==============================] - 0s 47us/step - loss: 0.0322 - mean_absolute_error: 0.0945 - val_loss: 0.0179 - val_mean_absolute_error: 0.0711\n",
            "Epoch 6/256\n",
            "8949/8949 [==============================] - 0s 42us/step - loss: 0.0310 - mean_absolute_error: 0.0919 - val_loss: 0.0183 - val_mean_absolute_error: 0.0735\n",
            "Epoch 7/256\n",
            "8949/8949 [==============================] - 0s 40us/step - loss: 0.0302 - mean_absolute_error: 0.0904 - val_loss: 0.0180 - val_mean_absolute_error: 0.0714\n",
            "Epoch 8/256\n",
            "8949/8949 [==============================] - 0s 42us/step - loss: 0.0295 - mean_absolute_error: 0.0889 - val_loss: 0.0177 - val_mean_absolute_error: 0.0709\n",
            "Epoch 9/256\n",
            "8949/8949 [==============================] - 0s 40us/step - loss: 0.0289 - mean_absolute_error: 0.0877 - val_loss: 0.0173 - val_mean_absolute_error: 0.0699\n",
            "Epoch 10/256\n",
            "8949/8949 [==============================] - 0s 40us/step - loss: 0.0284 - mean_absolute_error: 0.0870 - val_loss: 0.0167 - val_mean_absolute_error: 0.0673\n",
            "Epoch 11/256\n",
            "8949/8949 [==============================] - 0s 40us/step - loss: 0.0281 - mean_absolute_error: 0.0859 - val_loss: 0.0181 - val_mean_absolute_error: 0.0724\n",
            "Epoch 12/256\n",
            "8949/8949 [==============================] - 0s 40us/step - loss: 0.0278 - mean_absolute_error: 0.0853 - val_loss: 0.0177 - val_mean_absolute_error: 0.0719\n",
            "Epoch 13/256\n",
            "8949/8949 [==============================] - 0s 40us/step - loss: 0.0275 - mean_absolute_error: 0.0848 - val_loss: 0.0167 - val_mean_absolute_error: 0.0671\n",
            "Epoch 14/256\n",
            "8949/8949 [==============================] - 0s 43us/step - loss: 0.0272 - mean_absolute_error: 0.0839 - val_loss: 0.0172 - val_mean_absolute_error: 0.0700\n",
            "Epoch 15/256\n",
            "8949/8949 [==============================] - 0s 40us/step - loss: 0.0270 - mean_absolute_error: 0.0833 - val_loss: 0.0167 - val_mean_absolute_error: 0.0668\n",
            "Epoch 16/256\n",
            "8949/8949 [==============================] - 0s 41us/step - loss: 0.0268 - mean_absolute_error: 0.0827 - val_loss: 0.0164 - val_mean_absolute_error: 0.0687\n",
            "Epoch 17/256\n",
            "8949/8949 [==============================] - 0s 43us/step - loss: 0.0266 - mean_absolute_error: 0.0822 - val_loss: 0.0160 - val_mean_absolute_error: 0.0655\n",
            "Epoch 18/256\n",
            "8949/8949 [==============================] - 0s 41us/step - loss: 0.0265 - mean_absolute_error: 0.0813 - val_loss: 0.0163 - val_mean_absolute_error: 0.0656\n",
            "Epoch 19/256\n",
            "8949/8949 [==============================] - 0s 41us/step - loss: 0.0263 - mean_absolute_error: 0.0808 - val_loss: 0.0165 - val_mean_absolute_error: 0.0659\n",
            "Epoch 20/256\n",
            "8949/8949 [==============================] - 0s 41us/step - loss: 0.0261 - mean_absolute_error: 0.0803 - val_loss: 0.0156 - val_mean_absolute_error: 0.0628\n",
            "Epoch 21/256\n",
            "8949/8949 [==============================] - 0s 42us/step - loss: 0.0260 - mean_absolute_error: 0.0796 - val_loss: 0.0160 - val_mean_absolute_error: 0.0639\n",
            "Epoch 22/256\n",
            "8949/8949 [==============================] - 0s 40us/step - loss: 0.0258 - mean_absolute_error: 0.0790 - val_loss: 0.0159 - val_mean_absolute_error: 0.0636\n",
            "Epoch 23/256\n",
            "8949/8949 [==============================] - 0s 42us/step - loss: 0.0257 - mean_absolute_error: 0.0787 - val_loss: 0.0157 - val_mean_absolute_error: 0.0631\n",
            "Epoch 24/256\n",
            "8949/8949 [==============================] - 0s 41us/step - loss: 0.0256 - mean_absolute_error: 0.0780 - val_loss: 0.0167 - val_mean_absolute_error: 0.0676\n",
            "Epoch 25/256\n",
            "8949/8949 [==============================] - 0s 40us/step - loss: 0.0254 - mean_absolute_error: 0.0778 - val_loss: 0.0161 - val_mean_absolute_error: 0.0651\n",
            "Epoch 26/256\n",
            "8949/8949 [==============================] - 0s 40us/step - loss: 0.0254 - mean_absolute_error: 0.0772 - val_loss: 0.0157 - val_mean_absolute_error: 0.0623\n",
            "Epoch 27/256\n",
            "8949/8949 [==============================] - 0s 41us/step - loss: 0.0252 - mean_absolute_error: 0.0769 - val_loss: 0.0155 - val_mean_absolute_error: 0.0621\n",
            "Epoch 28/256\n",
            "8949/8949 [==============================] - 0s 40us/step - loss: 0.0251 - mean_absolute_error: 0.0760 - val_loss: 0.0163 - val_mean_absolute_error: 0.0649\n",
            "Epoch 29/256\n",
            "8949/8949 [==============================] - 0s 40us/step - loss: 0.0251 - mean_absolute_error: 0.0760 - val_loss: 0.0155 - val_mean_absolute_error: 0.0623\n",
            "Epoch 30/256\n",
            "8949/8949 [==============================] - 0s 40us/step - loss: 0.0249 - mean_absolute_error: 0.0754 - val_loss: 0.0153 - val_mean_absolute_error: 0.0610\n",
            "Epoch 31/256\n",
            "8949/8949 [==============================] - 0s 41us/step - loss: 0.0247 - mean_absolute_error: 0.0752 - val_loss: 0.0149 - val_mean_absolute_error: 0.0587\n",
            "Epoch 32/256\n",
            "8949/8949 [==============================] - 0s 40us/step - loss: 0.0248 - mean_absolute_error: 0.0746 - val_loss: 0.0154 - val_mean_absolute_error: 0.0606\n",
            "Epoch 33/256\n",
            "8949/8949 [==============================] - 0s 41us/step - loss: 0.0246 - mean_absolute_error: 0.0744 - val_loss: 0.0149 - val_mean_absolute_error: 0.0592\n",
            "Epoch 34/256\n",
            "8949/8949 [==============================] - 0s 40us/step - loss: 0.0245 - mean_absolute_error: 0.0737 - val_loss: 0.0155 - val_mean_absolute_error: 0.0617\n",
            "Epoch 35/256\n",
            "8949/8949 [==============================] - 0s 42us/step - loss: 0.0244 - mean_absolute_error: 0.0738 - val_loss: 0.0154 - val_mean_absolute_error: 0.0607\n",
            "Epoch 36/256\n",
            "8949/8949 [==============================] - 0s 40us/step - loss: 0.0243 - mean_absolute_error: 0.0732 - val_loss: 0.0152 - val_mean_absolute_error: 0.0608\n",
            "Epoch 37/256\n",
            "8949/8949 [==============================] - 0s 41us/step - loss: 0.0242 - mean_absolute_error: 0.0730 - val_loss: 0.0148 - val_mean_absolute_error: 0.0587\n",
            "Epoch 38/256\n",
            "8949/8949 [==============================] - 0s 41us/step - loss: 0.0242 - mean_absolute_error: 0.0727 - val_loss: 0.0148 - val_mean_absolute_error: 0.0586\n",
            "Epoch 39/256\n",
            "8949/8949 [==============================] - 0s 41us/step - loss: 0.0241 - mean_absolute_error: 0.0722 - val_loss: 0.0149 - val_mean_absolute_error: 0.0592\n",
            "Epoch 40/256\n",
            "8949/8949 [==============================] - 0s 43us/step - loss: 0.0240 - mean_absolute_error: 0.0719 - val_loss: 0.0149 - val_mean_absolute_error: 0.0591\n",
            "Epoch 41/256\n",
            "8949/8949 [==============================] - 0s 43us/step - loss: 0.0239 - mean_absolute_error: 0.0714 - val_loss: 0.0153 - val_mean_absolute_error: 0.0607\n",
            "Epoch 42/256\n",
            "8949/8949 [==============================] - 0s 41us/step - loss: 0.0238 - mean_absolute_error: 0.0716 - val_loss: 0.0154 - val_mean_absolute_error: 0.0605\n",
            "Epoch 43/256\n",
            "8949/8949 [==============================] - 0s 41us/step - loss: 0.0237 - mean_absolute_error: 0.0707 - val_loss: 0.0155 - val_mean_absolute_error: 0.0620\n",
            "Epoch 44/256\n",
            "8949/8949 [==============================] - 0s 41us/step - loss: 0.0236 - mean_absolute_error: 0.0708 - val_loss: 0.0145 - val_mean_absolute_error: 0.0574\n",
            "Epoch 45/256\n",
            "8949/8949 [==============================] - 0s 40us/step - loss: 0.0236 - mean_absolute_error: 0.0702 - val_loss: 0.0148 - val_mean_absolute_error: 0.0591\n",
            "Epoch 46/256\n",
            "8949/8949 [==============================] - 0s 41us/step - loss: 0.0236 - mean_absolute_error: 0.0704 - val_loss: 0.0143 - val_mean_absolute_error: 0.0564\n",
            "Epoch 47/256\n",
            "8949/8949 [==============================] - 0s 42us/step - loss: 0.0235 - mean_absolute_error: 0.0699 - val_loss: 0.0144 - val_mean_absolute_error: 0.0576\n",
            "Epoch 48/256\n",
            "8949/8949 [==============================] - 0s 42us/step - loss: 0.0235 - mean_absolute_error: 0.0696 - val_loss: 0.0145 - val_mean_absolute_error: 0.0572\n",
            "Epoch 49/256\n",
            "8949/8949 [==============================] - 0s 41us/step - loss: 0.0234 - mean_absolute_error: 0.0698 - val_loss: 0.0144 - val_mean_absolute_error: 0.0564\n",
            "Epoch 50/256\n",
            "8949/8949 [==============================] - 0s 40us/step - loss: 0.0233 - mean_absolute_error: 0.0688 - val_loss: 0.0147 - val_mean_absolute_error: 0.0576\n",
            "Epoch 51/256\n",
            "8949/8949 [==============================] - 0s 42us/step - loss: 0.0233 - mean_absolute_error: 0.0689 - val_loss: 0.0147 - val_mean_absolute_error: 0.0575\n",
            "Epoch 52/256\n",
            "8949/8949 [==============================] - 0s 41us/step - loss: 0.0232 - mean_absolute_error: 0.0687 - val_loss: 0.0141 - val_mean_absolute_error: 0.0549\n",
            "Epoch 53/256\n",
            "8949/8949 [==============================] - 0s 41us/step - loss: 0.0232 - mean_absolute_error: 0.0683 - val_loss: 0.0144 - val_mean_absolute_error: 0.0566\n",
            "Epoch 54/256\n",
            "8949/8949 [==============================] - 0s 40us/step - loss: 0.0232 - mean_absolute_error: 0.0682 - val_loss: 0.0148 - val_mean_absolute_error: 0.0574\n",
            "Epoch 55/256\n",
            "8949/8949 [==============================] - 0s 40us/step - loss: 0.0231 - mean_absolute_error: 0.0680 - val_loss: 0.0146 - val_mean_absolute_error: 0.0565\n",
            "Epoch 56/256\n",
            "8949/8949 [==============================] - 0s 40us/step - loss: 0.0230 - mean_absolute_error: 0.0678 - val_loss: 0.0142 - val_mean_absolute_error: 0.0550\n",
            "Epoch 57/256\n",
            "8949/8949 [==============================] - 0s 40us/step - loss: 0.0230 - mean_absolute_error: 0.0673 - val_loss: 0.0153 - val_mean_absolute_error: 0.0593\n",
            "Epoch 58/256\n",
            "8949/8949 [==============================] - 0s 41us/step - loss: 0.0230 - mean_absolute_error: 0.0674 - val_loss: 0.0143 - val_mean_absolute_error: 0.0552\n",
            "Epoch 59/256\n",
            "8949/8949 [==============================] - 0s 41us/step - loss: 0.0229 - mean_absolute_error: 0.0671 - val_loss: 0.0144 - val_mean_absolute_error: 0.0555\n",
            "Epoch 60/256\n",
            "8949/8949 [==============================] - 0s 41us/step - loss: 0.0229 - mean_absolute_error: 0.0671 - val_loss: 0.0142 - val_mean_absolute_error: 0.0546\n",
            "Epoch 61/256\n",
            "8949/8949 [==============================] - 0s 40us/step - loss: 0.0228 - mean_absolute_error: 0.0668 - val_loss: 0.0144 - val_mean_absolute_error: 0.0556\n",
            "Epoch 62/256\n",
            "8949/8949 [==============================] - 0s 42us/step - loss: 0.0228 - mean_absolute_error: 0.0668 - val_loss: 0.0145 - val_mean_absolute_error: 0.0551\n",
            "Epoch 63/256\n",
            "8949/8949 [==============================] - 0s 40us/step - loss: 0.0228 - mean_absolute_error: 0.0664 - val_loss: 0.0143 - val_mean_absolute_error: 0.0548\n",
            "Epoch 64/256\n",
            "8949/8949 [==============================] - 0s 41us/step - loss: 0.0227 - mean_absolute_error: 0.0664 - val_loss: 0.0142 - val_mean_absolute_error: 0.0544\n",
            "Epoch 65/256\n",
            "8949/8949 [==============================] - 0s 41us/step - loss: 0.0227 - mean_absolute_error: 0.0661 - val_loss: 0.0144 - val_mean_absolute_error: 0.0552\n",
            "Epoch 66/256\n",
            "8949/8949 [==============================] - 0s 42us/step - loss: 0.0227 - mean_absolute_error: 0.0661 - val_loss: 0.0144 - val_mean_absolute_error: 0.0545\n",
            "Epoch 67/256\n",
            "8949/8949 [==============================] - 0s 41us/step - loss: 0.0227 - mean_absolute_error: 0.0658 - val_loss: 0.0146 - val_mean_absolute_error: 0.0548\n",
            "Epoch 68/256\n",
            "8949/8949 [==============================] - 0s 40us/step - loss: 0.0226 - mean_absolute_error: 0.0658 - val_loss: 0.0142 - val_mean_absolute_error: 0.0536\n",
            "Epoch 69/256\n",
            "8949/8949 [==============================] - 0s 44us/step - loss: 0.0226 - mean_absolute_error: 0.0656 - val_loss: 0.0146 - val_mean_absolute_error: 0.0548\n",
            "Epoch 70/256\n",
            "8949/8949 [==============================] - 0s 42us/step - loss: 0.0226 - mean_absolute_error: 0.0655 - val_loss: 0.0142 - val_mean_absolute_error: 0.0537\n",
            "Epoch 71/256\n",
            "8949/8949 [==============================] - 0s 41us/step - loss: 0.0225 - mean_absolute_error: 0.0651 - val_loss: 0.0144 - val_mean_absolute_error: 0.0540\n",
            "Epoch 72/256\n",
            "8949/8949 [==============================] - 0s 42us/step - loss: 0.0225 - mean_absolute_error: 0.0648 - val_loss: 0.0150 - val_mean_absolute_error: 0.0578\n",
            "Epoch 73/256\n",
            "8949/8949 [==============================] - 0s 40us/step - loss: 0.0225 - mean_absolute_error: 0.0650 - val_loss: 0.0143 - val_mean_absolute_error: 0.0531\n",
            "Epoch 74/256\n",
            "8949/8949 [==============================] - 0s 40us/step - loss: 0.0224 - mean_absolute_error: 0.0645 - val_loss: 0.0142 - val_mean_absolute_error: 0.0540\n",
            "Epoch 75/256\n",
            "8949/8949 [==============================] - 0s 40us/step - loss: 0.0224 - mean_absolute_error: 0.0642 - val_loss: 0.0145 - val_mean_absolute_error: 0.0541\n",
            "Epoch 76/256\n",
            "8949/8949 [==============================] - 0s 40us/step - loss: 0.0223 - mean_absolute_error: 0.0643 - val_loss: 0.0141 - val_mean_absolute_error: 0.0523\n",
            "Epoch 77/256\n",
            "8949/8949 [==============================] - 0s 42us/step - loss: 0.0223 - mean_absolute_error: 0.0641 - val_loss: 0.0145 - val_mean_absolute_error: 0.0534\n",
            "Epoch 78/256\n",
            "8949/8949 [==============================] - 0s 42us/step - loss: 0.0223 - mean_absolute_error: 0.0637 - val_loss: 0.0143 - val_mean_absolute_error: 0.0526\n",
            "Epoch 79/256\n",
            "8949/8949 [==============================] - 0s 41us/step - loss: 0.0223 - mean_absolute_error: 0.0636 - val_loss: 0.0146 - val_mean_absolute_error: 0.0554\n",
            "Epoch 80/256\n",
            "8949/8949 [==============================] - 0s 40us/step - loss: 0.0222 - mean_absolute_error: 0.0636 - val_loss: 0.0141 - val_mean_absolute_error: 0.0537\n",
            "Epoch 81/256\n",
            "8949/8949 [==============================] - 0s 40us/step - loss: 0.0222 - mean_absolute_error: 0.0639 - val_loss: 0.0147 - val_mean_absolute_error: 0.0536\n",
            "Epoch 82/256\n",
            "8949/8949 [==============================] - 0s 42us/step - loss: 0.0222 - mean_absolute_error: 0.0634 - val_loss: 0.0140 - val_mean_absolute_error: 0.0512\n",
            "Epoch 83/256\n",
            "8949/8949 [==============================] - 0s 41us/step - loss: 0.0222 - mean_absolute_error: 0.0632 - val_loss: 0.0141 - val_mean_absolute_error: 0.0519\n",
            "Epoch 84/256\n",
            "8949/8949 [==============================] - 0s 41us/step - loss: 0.0221 - mean_absolute_error: 0.0629 - val_loss: 0.0142 - val_mean_absolute_error: 0.0532\n",
            "Epoch 85/256\n",
            "8949/8949 [==============================] - 0s 41us/step - loss: 0.0221 - mean_absolute_error: 0.0631 - val_loss: 0.0139 - val_mean_absolute_error: 0.0513\n",
            "Epoch 86/256\n",
            "8949/8949 [==============================] - 0s 41us/step - loss: 0.0220 - mean_absolute_error: 0.0631 - val_loss: 0.0140 - val_mean_absolute_error: 0.0509\n",
            "Epoch 87/256\n",
            "8949/8949 [==============================] - 0s 42us/step - loss: 0.0220 - mean_absolute_error: 0.0628 - val_loss: 0.0144 - val_mean_absolute_error: 0.0518\n",
            "Epoch 88/256\n",
            "8949/8949 [==============================] - 0s 40us/step - loss: 0.0220 - mean_absolute_error: 0.0629 - val_loss: 0.0146 - val_mean_absolute_error: 0.0525\n",
            "Epoch 89/256\n",
            "8949/8949 [==============================] - 0s 39us/step - loss: 0.0220 - mean_absolute_error: 0.0624 - val_loss: 0.0142 - val_mean_absolute_error: 0.0529\n",
            "Epoch 90/256\n",
            "8949/8949 [==============================] - 0s 40us/step - loss: 0.0219 - mean_absolute_error: 0.0625 - val_loss: 0.0140 - val_mean_absolute_error: 0.0520\n",
            "Epoch 91/256\n",
            "8949/8949 [==============================] - 0s 41us/step - loss: 0.0220 - mean_absolute_error: 0.0621 - val_loss: 0.0139 - val_mean_absolute_error: 0.0514\n",
            "Epoch 92/256\n",
            "8949/8949 [==============================] - 0s 40us/step - loss: 0.0219 - mean_absolute_error: 0.0620 - val_loss: 0.0148 - val_mean_absolute_error: 0.0535\n",
            "Epoch 93/256\n",
            "8949/8949 [==============================] - 0s 42us/step - loss: 0.0219 - mean_absolute_error: 0.0621 - val_loss: 0.0140 - val_mean_absolute_error: 0.0504\n",
            "Epoch 94/256\n",
            "8949/8949 [==============================] - 0s 41us/step - loss: 0.0219 - mean_absolute_error: 0.0618 - val_loss: 0.0142 - val_mean_absolute_error: 0.0510\n",
            "Epoch 95/256\n",
            "8949/8949 [==============================] - 0s 41us/step - loss: 0.0219 - mean_absolute_error: 0.0616 - val_loss: 0.0139 - val_mean_absolute_error: 0.0510\n",
            "Epoch 96/256\n",
            "8949/8949 [==============================] - 0s 43us/step - loss: 0.0218 - mean_absolute_error: 0.0617 - val_loss: 0.0141 - val_mean_absolute_error: 0.0505\n",
            "Epoch 97/256\n",
            "8949/8949 [==============================] - 0s 40us/step - loss: 0.0218 - mean_absolute_error: 0.0617 - val_loss: 0.0140 - val_mean_absolute_error: 0.0501\n",
            "Epoch 98/256\n",
            "8949/8949 [==============================] - 0s 41us/step - loss: 0.0218 - mean_absolute_error: 0.0617 - val_loss: 0.0136 - val_mean_absolute_error: 0.0495\n",
            "Epoch 99/256\n",
            "8949/8949 [==============================] - 0s 41us/step - loss: 0.0217 - mean_absolute_error: 0.0615 - val_loss: 0.0137 - val_mean_absolute_error: 0.0488\n",
            "Epoch 100/256\n",
            "8949/8949 [==============================] - 0s 42us/step - loss: 0.0218 - mean_absolute_error: 0.0610 - val_loss: 0.0141 - val_mean_absolute_error: 0.0509\n",
            "Epoch 101/256\n",
            "8949/8949 [==============================] - 0s 42us/step - loss: 0.0217 - mean_absolute_error: 0.0613 - val_loss: 0.0140 - val_mean_absolute_error: 0.0501\n",
            "Epoch 102/256\n",
            "8949/8949 [==============================] - 0s 41us/step - loss: 0.0218 - mean_absolute_error: 0.0612 - val_loss: 0.0137 - val_mean_absolute_error: 0.0495\n",
            "Epoch 103/256\n",
            "8949/8949 [==============================] - 0s 42us/step - loss: 0.0216 - mean_absolute_error: 0.0608 - val_loss: 0.0148 - val_mean_absolute_error: 0.0523\n",
            "Epoch 104/256\n",
            "8949/8949 [==============================] - 0s 42us/step - loss: 0.0217 - mean_absolute_error: 0.0607 - val_loss: 0.0137 - val_mean_absolute_error: 0.0507\n",
            "Epoch 105/256\n",
            "8949/8949 [==============================] - 0s 42us/step - loss: 0.0217 - mean_absolute_error: 0.0609 - val_loss: 0.0139 - val_mean_absolute_error: 0.0492\n",
            "Epoch 106/256\n",
            "8949/8949 [==============================] - 0s 41us/step - loss: 0.0216 - mean_absolute_error: 0.0606 - val_loss: 0.0144 - val_mean_absolute_error: 0.0508\n",
            "Epoch 107/256\n",
            "8949/8949 [==============================] - 0s 41us/step - loss: 0.0216 - mean_absolute_error: 0.0607 - val_loss: 0.0139 - val_mean_absolute_error: 0.0487\n",
            "Epoch 108/256\n",
            "8949/8949 [==============================] - 0s 41us/step - loss: 0.0216 - mean_absolute_error: 0.0601 - val_loss: 0.0149 - val_mean_absolute_error: 0.0534\n",
            "Epoch 109/256\n",
            "8949/8949 [==============================] - 0s 40us/step - loss: 0.0216 - mean_absolute_error: 0.0604 - val_loss: 0.0138 - val_mean_absolute_error: 0.0498\n",
            "Epoch 110/256\n",
            "8949/8949 [==============================] - 0s 40us/step - loss: 0.0216 - mean_absolute_error: 0.0603 - val_loss: 0.0138 - val_mean_absolute_error: 0.0486\n",
            "Epoch 111/256\n",
            "8949/8949 [==============================] - 0s 41us/step - loss: 0.0216 - mean_absolute_error: 0.0601 - val_loss: 0.0141 - val_mean_absolute_error: 0.0493\n",
            "Epoch 112/256\n",
            "8949/8949 [==============================] - 0s 42us/step - loss: 0.0216 - mean_absolute_error: 0.0599 - val_loss: 0.0145 - val_mean_absolute_error: 0.0517\n",
            "Epoch 113/256\n",
            "8949/8949 [==============================] - 0s 41us/step - loss: 0.0215 - mean_absolute_error: 0.0599 - val_loss: 0.0137 - val_mean_absolute_error: 0.0481\n",
            "Epoch 114/256\n",
            "8949/8949 [==============================] - 0s 41us/step - loss: 0.0215 - mean_absolute_error: 0.0597 - val_loss: 0.0137 - val_mean_absolute_error: 0.0492\n",
            "Epoch 115/256\n",
            "8949/8949 [==============================] - 0s 41us/step - loss: 0.0215 - mean_absolute_error: 0.0593 - val_loss: 0.0140 - val_mean_absolute_error: 0.0498\n",
            "Epoch 116/256\n",
            "8949/8949 [==============================] - 0s 41us/step - loss: 0.0215 - mean_absolute_error: 0.0597 - val_loss: 0.0141 - val_mean_absolute_error: 0.0489\n",
            "Epoch 117/256\n",
            "8949/8949 [==============================] - 0s 40us/step - loss: 0.0215 - mean_absolute_error: 0.0596 - val_loss: 0.0134 - val_mean_absolute_error: 0.0474\n",
            "Epoch 118/256\n",
            "8949/8949 [==============================] - 0s 42us/step - loss: 0.0215 - mean_absolute_error: 0.0592 - val_loss: 0.0134 - val_mean_absolute_error: 0.0473\n",
            "Epoch 119/256\n",
            "8949/8949 [==============================] - 0s 42us/step - loss: 0.0215 - mean_absolute_error: 0.0593 - val_loss: 0.0136 - val_mean_absolute_error: 0.0480\n",
            "Epoch 120/256\n",
            "8949/8949 [==============================] - 0s 42us/step - loss: 0.0214 - mean_absolute_error: 0.0591 - val_loss: 0.0139 - val_mean_absolute_error: 0.0489\n",
            "Epoch 121/256\n",
            "8949/8949 [==============================] - 0s 41us/step - loss: 0.0214 - mean_absolute_error: 0.0589 - val_loss: 0.0145 - val_mean_absolute_error: 0.0502\n",
            "Epoch 122/256\n",
            "8949/8949 [==============================] - 0s 42us/step - loss: 0.0214 - mean_absolute_error: 0.0592 - val_loss: 0.0144 - val_mean_absolute_error: 0.0487\n",
            "Epoch 123/256\n",
            "8949/8949 [==============================] - 0s 42us/step - loss: 0.0214 - mean_absolute_error: 0.0589 - val_loss: 0.0135 - val_mean_absolute_error: 0.0463\n",
            "Epoch 124/256\n",
            "8949/8949 [==============================] - 0s 43us/step - loss: 0.0213 - mean_absolute_error: 0.0588 - val_loss: 0.0139 - val_mean_absolute_error: 0.0469\n",
            "Epoch 125/256\n",
            "8949/8949 [==============================] - 0s 42us/step - loss: 0.0213 - mean_absolute_error: 0.0585 - val_loss: 0.0137 - val_mean_absolute_error: 0.0497\n",
            "Epoch 126/256\n",
            "8949/8949 [==============================] - 0s 40us/step - loss: 0.0213 - mean_absolute_error: 0.0585 - val_loss: 0.0141 - val_mean_absolute_error: 0.0482\n",
            "Epoch 127/256\n",
            "8949/8949 [==============================] - 0s 40us/step - loss: 0.0213 - mean_absolute_error: 0.0586 - val_loss: 0.0136 - val_mean_absolute_error: 0.0470\n",
            "Epoch 128/256\n",
            "8949/8949 [==============================] - 0s 40us/step - loss: 0.0213 - mean_absolute_error: 0.0583 - val_loss: 0.0138 - val_mean_absolute_error: 0.0474\n",
            "Epoch 129/256\n",
            "8949/8949 [==============================] - 0s 41us/step - loss: 0.0213 - mean_absolute_error: 0.0581 - val_loss: 0.0137 - val_mean_absolute_error: 0.0481\n",
            "Epoch 130/256\n",
            "8949/8949 [==============================] - 0s 41us/step - loss: 0.0213 - mean_absolute_error: 0.0582 - val_loss: 0.0140 - val_mean_absolute_error: 0.0473\n",
            "Epoch 131/256\n",
            "8949/8949 [==============================] - 0s 41us/step - loss: 0.0213 - mean_absolute_error: 0.0583 - val_loss: 0.0135 - val_mean_absolute_error: 0.0456\n",
            "Epoch 132/256\n",
            "8949/8949 [==============================] - 0s 41us/step - loss: 0.0212 - mean_absolute_error: 0.0577 - val_loss: 0.0140 - val_mean_absolute_error: 0.0481\n",
            "Epoch 133/256\n",
            "8949/8949 [==============================] - 0s 40us/step - loss: 0.0212 - mean_absolute_error: 0.0580 - val_loss: 0.0137 - val_mean_absolute_error: 0.0468\n",
            "Epoch 134/256\n",
            "8949/8949 [==============================] - 0s 40us/step - loss: 0.0212 - mean_absolute_error: 0.0581 - val_loss: 0.0138 - val_mean_absolute_error: 0.0465\n",
            "Epoch 135/256\n",
            "8949/8949 [==============================] - 0s 41us/step - loss: 0.0212 - mean_absolute_error: 0.0575 - val_loss: 0.0139 - val_mean_absolute_error: 0.0481\n",
            "Epoch 136/256\n",
            "8949/8949 [==============================] - 0s 41us/step - loss: 0.0212 - mean_absolute_error: 0.0582 - val_loss: 0.0136 - val_mean_absolute_error: 0.0453\n",
            "Epoch 137/256\n",
            "8949/8949 [==============================] - 0s 41us/step - loss: 0.0212 - mean_absolute_error: 0.0571 - val_loss: 0.0141 - val_mean_absolute_error: 0.0490\n",
            "Epoch 138/256\n",
            "8949/8949 [==============================] - 0s 41us/step - loss: 0.0212 - mean_absolute_error: 0.0578 - val_loss: 0.0137 - val_mean_absolute_error: 0.0463\n",
            "Epoch 139/256\n",
            "8949/8949 [==============================] - 0s 40us/step - loss: 0.0211 - mean_absolute_error: 0.0572 - val_loss: 0.0143 - val_mean_absolute_error: 0.0490\n",
            "Epoch 140/256\n",
            "8949/8949 [==============================] - 0s 42us/step - loss: 0.0212 - mean_absolute_error: 0.0576 - val_loss: 0.0137 - val_mean_absolute_error: 0.0457\n",
            "Epoch 141/256\n",
            "8949/8949 [==============================] - 0s 41us/step - loss: 0.0211 - mean_absolute_error: 0.0573 - val_loss: 0.0134 - val_mean_absolute_error: 0.0454\n",
            "Epoch 142/256\n",
            "8949/8949 [==============================] - 0s 41us/step - loss: 0.0211 - mean_absolute_error: 0.0573 - val_loss: 0.0134 - val_mean_absolute_error: 0.0456\n",
            "Epoch 143/256\n",
            "8949/8949 [==============================] - 0s 40us/step - loss: 0.0211 - mean_absolute_error: 0.0572 - val_loss: 0.0137 - val_mean_absolute_error: 0.0481\n",
            "Epoch 144/256\n",
            "8949/8949 [==============================] - 0s 40us/step - loss: 0.0211 - mean_absolute_error: 0.0573 - val_loss: 0.0138 - val_mean_absolute_error: 0.0472\n",
            "Epoch 145/256\n",
            "8949/8949 [==============================] - 0s 42us/step - loss: 0.0211 - mean_absolute_error: 0.0573 - val_loss: 0.0133 - val_mean_absolute_error: 0.0453\n",
            "Epoch 146/256\n",
            "8949/8949 [==============================] - 0s 41us/step - loss: 0.0211 - mean_absolute_error: 0.0571 - val_loss: 0.0139 - val_mean_absolute_error: 0.0465\n",
            "Epoch 147/256\n",
            "8949/8949 [==============================] - 0s 40us/step - loss: 0.0210 - mean_absolute_error: 0.0570 - val_loss: 0.0135 - val_mean_absolute_error: 0.0446\n",
            "Epoch 148/256\n",
            "8949/8949 [==============================] - 0s 41us/step - loss: 0.0211 - mean_absolute_error: 0.0568 - val_loss: 0.0137 - val_mean_absolute_error: 0.0467\n",
            "Epoch 149/256\n",
            "8949/8949 [==============================] - 0s 41us/step - loss: 0.0210 - mean_absolute_error: 0.0568 - val_loss: 0.0137 - val_mean_absolute_error: 0.0479\n",
            "Epoch 150/256\n",
            "8949/8949 [==============================] - 0s 42us/step - loss: 0.0211 - mean_absolute_error: 0.0570 - val_loss: 0.0149 - val_mean_absolute_error: 0.0509\n",
            "Epoch 151/256\n",
            "8949/8949 [==============================] - 0s 45us/step - loss: 0.0210 - mean_absolute_error: 0.0570 - val_loss: 0.0136 - val_mean_absolute_error: 0.0454\n",
            "Epoch 152/256\n",
            "8949/8949 [==============================] - 0s 42us/step - loss: 0.0210 - mean_absolute_error: 0.0566 - val_loss: 0.0137 - val_mean_absolute_error: 0.0472\n",
            "Epoch 153/256\n",
            "8949/8949 [==============================] - 0s 42us/step - loss: 0.0210 - mean_absolute_error: 0.0571 - val_loss: 0.0141 - val_mean_absolute_error: 0.0466\n",
            "Epoch 154/256\n",
            "8949/8949 [==============================] - 0s 41us/step - loss: 0.0210 - mean_absolute_error: 0.0568 - val_loss: 0.0137 - val_mean_absolute_error: 0.0463\n",
            "Epoch 155/256\n",
            "8949/8949 [==============================] - 0s 40us/step - loss: 0.0210 - mean_absolute_error: 0.0565 - val_loss: 0.0141 - val_mean_absolute_error: 0.0504\n",
            "Epoch 156/256\n",
            "8949/8949 [==============================] - 0s 41us/step - loss: 0.0210 - mean_absolute_error: 0.0569 - val_loss: 0.0137 - val_mean_absolute_error: 0.0466\n",
            "Epoch 157/256\n",
            "8949/8949 [==============================] - 0s 41us/step - loss: 0.0210 - mean_absolute_error: 0.0564 - val_loss: 0.0136 - val_mean_absolute_error: 0.0458\n",
            "Epoch 158/256\n",
            "8949/8949 [==============================] - 0s 41us/step - loss: 0.0210 - mean_absolute_error: 0.0565 - val_loss: 0.0140 - val_mean_absolute_error: 0.0472\n",
            "Epoch 159/256\n",
            "8949/8949 [==============================] - 0s 41us/step - loss: 0.0209 - mean_absolute_error: 0.0567 - val_loss: 0.0138 - val_mean_absolute_error: 0.0456\n",
            "Epoch 160/256\n",
            "8949/8949 [==============================] - 0s 40us/step - loss: 0.0209 - mean_absolute_error: 0.0564 - val_loss: 0.0136 - val_mean_absolute_error: 0.0460\n",
            "Epoch 161/256\n",
            "8949/8949 [==============================] - 0s 42us/step - loss: 0.0209 - mean_absolute_error: 0.0561 - val_loss: 0.0146 - val_mean_absolute_error: 0.0485\n",
            "Epoch 162/256\n",
            "8949/8949 [==============================] - 0s 41us/step - loss: 0.0209 - mean_absolute_error: 0.0566 - val_loss: 0.0139 - val_mean_absolute_error: 0.0457\n",
            "Epoch 163/256\n",
            "8949/8949 [==============================] - 0s 42us/step - loss: 0.0209 - mean_absolute_error: 0.0565 - val_loss: 0.0134 - val_mean_absolute_error: 0.0451\n",
            "Epoch 164/256\n",
            "8949/8949 [==============================] - 0s 41us/step - loss: 0.0209 - mean_absolute_error: 0.0560 - val_loss: 0.0138 - val_mean_absolute_error: 0.0459\n",
            "Epoch 165/256\n",
            "8949/8949 [==============================] - 0s 40us/step - loss: 0.0208 - mean_absolute_error: 0.0563 - val_loss: 0.0140 - val_mean_absolute_error: 0.0454\n",
            "Epoch 166/256\n",
            "8949/8949 [==============================] - 0s 40us/step - loss: 0.0209 - mean_absolute_error: 0.0560 - val_loss: 0.0137 - val_mean_absolute_error: 0.0483\n",
            "Epoch 167/256\n",
            "8949/8949 [==============================] - 0s 40us/step - loss: 0.0209 - mean_absolute_error: 0.0564 - val_loss: 0.0142 - val_mean_absolute_error: 0.0477\n",
            "Epoch 168/256\n",
            "8949/8949 [==============================] - 0s 41us/step - loss: 0.0209 - mean_absolute_error: 0.0561 - val_loss: 0.0143 - val_mean_absolute_error: 0.0475\n",
            "Epoch 169/256\n",
            "8949/8949 [==============================] - 0s 43us/step - loss: 0.0209 - mean_absolute_error: 0.0559 - val_loss: 0.0139 - val_mean_absolute_error: 0.0469\n",
            "Epoch 170/256\n",
            "8949/8949 [==============================] - 0s 42us/step - loss: 0.0209 - mean_absolute_error: 0.0562 - val_loss: 0.0134 - val_mean_absolute_error: 0.0457\n",
            "Epoch 171/256\n",
            "8949/8949 [==============================] - 0s 42us/step - loss: 0.0209 - mean_absolute_error: 0.0555 - val_loss: 0.0139 - val_mean_absolute_error: 0.0471\n",
            "Epoch 172/256\n",
            "8949/8949 [==============================] - 0s 42us/step - loss: 0.0208 - mean_absolute_error: 0.0562 - val_loss: 0.0136 - val_mean_absolute_error: 0.0450\n",
            "Epoch 173/256\n",
            "8949/8949 [==============================] - 0s 41us/step - loss: 0.0209 - mean_absolute_error: 0.0561 - val_loss: 0.0135 - val_mean_absolute_error: 0.0455\n",
            "Epoch 174/256\n",
            "8949/8949 [==============================] - 0s 42us/step - loss: 0.0208 - mean_absolute_error: 0.0559 - val_loss: 0.0137 - val_mean_absolute_error: 0.0467\n",
            "Epoch 175/256\n",
            "8949/8949 [==============================] - 0s 42us/step - loss: 0.0208 - mean_absolute_error: 0.0558 - val_loss: 0.0135 - val_mean_absolute_error: 0.0455\n",
            "Epoch 176/256\n",
            "8949/8949 [==============================] - 0s 40us/step - loss: 0.0208 - mean_absolute_error: 0.0562 - val_loss: 0.0138 - val_mean_absolute_error: 0.0442\n",
            "Epoch 177/256\n",
            "8949/8949 [==============================] - 0s 40us/step - loss: 0.0208 - mean_absolute_error: 0.0556 - val_loss: 0.0133 - val_mean_absolute_error: 0.0438\n",
            "Epoch 178/256\n",
            "8949/8949 [==============================] - 0s 40us/step - loss: 0.0208 - mean_absolute_error: 0.0553 - val_loss: 0.0139 - val_mean_absolute_error: 0.0457\n",
            "Epoch 179/256\n",
            "8949/8949 [==============================] - 0s 43us/step - loss: 0.0207 - mean_absolute_error: 0.0555 - val_loss: 0.0144 - val_mean_absolute_error: 0.0500\n",
            "Epoch 180/256\n",
            "8949/8949 [==============================] - 0s 41us/step - loss: 0.0209 - mean_absolute_error: 0.0558 - val_loss: 0.0139 - val_mean_absolute_error: 0.0453\n",
            "Epoch 181/256\n",
            "8949/8949 [==============================] - 0s 40us/step - loss: 0.0208 - mean_absolute_error: 0.0555 - val_loss: 0.0139 - val_mean_absolute_error: 0.0457\n",
            "Epoch 182/256\n",
            "8949/8949 [==============================] - 0s 40us/step - loss: 0.0208 - mean_absolute_error: 0.0555 - val_loss: 0.0136 - val_mean_absolute_error: 0.0449\n",
            "Epoch 183/256\n",
            "8949/8949 [==============================] - 0s 40us/step - loss: 0.0208 - mean_absolute_error: 0.0556 - val_loss: 0.0138 - val_mean_absolute_error: 0.0456\n",
            "Epoch 184/256\n",
            "8949/8949 [==============================] - 0s 41us/step - loss: 0.0208 - mean_absolute_error: 0.0551 - val_loss: 0.0136 - val_mean_absolute_error: 0.0446\n",
            "Epoch 185/256\n",
            "8949/8949 [==============================] - 0s 41us/step - loss: 0.0208 - mean_absolute_error: 0.0551 - val_loss: 0.0139 - val_mean_absolute_error: 0.0453\n",
            "Epoch 186/256\n",
            "8949/8949 [==============================] - 0s 41us/step - loss: 0.0208 - mean_absolute_error: 0.0553 - val_loss: 0.0138 - val_mean_absolute_error: 0.0458\n",
            "Epoch 187/256\n",
            "8949/8949 [==============================] - 0s 42us/step - loss: 0.0207 - mean_absolute_error: 0.0548 - val_loss: 0.0140 - val_mean_absolute_error: 0.0491\n",
            "Epoch 188/256\n",
            "8949/8949 [==============================] - 0s 41us/step - loss: 0.0208 - mean_absolute_error: 0.0551 - val_loss: 0.0138 - val_mean_absolute_error: 0.0457\n",
            "Epoch 189/256\n",
            "8949/8949 [==============================] - 0s 40us/step - loss: 0.0208 - mean_absolute_error: 0.0552 - val_loss: 0.0134 - val_mean_absolute_error: 0.0439\n",
            "Epoch 190/256\n",
            "8949/8949 [==============================] - 0s 41us/step - loss: 0.0208 - mean_absolute_error: 0.0552 - val_loss: 0.0135 - val_mean_absolute_error: 0.0438\n",
            "Epoch 191/256\n",
            "8949/8949 [==============================] - 0s 42us/step - loss: 0.0208 - mean_absolute_error: 0.0549 - val_loss: 0.0133 - val_mean_absolute_error: 0.0444\n",
            "Epoch 192/256\n",
            "8949/8949 [==============================] - 0s 40us/step - loss: 0.0207 - mean_absolute_error: 0.0551 - val_loss: 0.0143 - val_mean_absolute_error: 0.0476\n",
            "Epoch 193/256\n",
            "8949/8949 [==============================] - 0s 41us/step - loss: 0.0207 - mean_absolute_error: 0.0553 - val_loss: 0.0133 - val_mean_absolute_error: 0.0431\n",
            "Epoch 194/256\n",
            "8949/8949 [==============================] - 0s 41us/step - loss: 0.0207 - mean_absolute_error: 0.0548 - val_loss: 0.0135 - val_mean_absolute_error: 0.0428\n",
            "Epoch 195/256\n",
            "8949/8949 [==============================] - 0s 40us/step - loss: 0.0207 - mean_absolute_error: 0.0550 - val_loss: 0.0132 - val_mean_absolute_error: 0.0431\n",
            "Epoch 196/256\n",
            "8949/8949 [==============================] - 0s 42us/step - loss: 0.0207 - mean_absolute_error: 0.0547 - val_loss: 0.0136 - val_mean_absolute_error: 0.0430\n",
            "Epoch 197/256\n",
            "8949/8949 [==============================] - 0s 40us/step - loss: 0.0207 - mean_absolute_error: 0.0546 - val_loss: 0.0140 - val_mean_absolute_error: 0.0450\n",
            "Epoch 198/256\n",
            "8949/8949 [==============================] - 0s 42us/step - loss: 0.0207 - mean_absolute_error: 0.0547 - val_loss: 0.0136 - val_mean_absolute_error: 0.0438\n",
            "Epoch 199/256\n",
            "8949/8949 [==============================] - 0s 42us/step - loss: 0.0206 - mean_absolute_error: 0.0549 - val_loss: 0.0134 - val_mean_absolute_error: 0.0434\n",
            "Epoch 200/256\n",
            "8949/8949 [==============================] - 0s 41us/step - loss: 0.0207 - mean_absolute_error: 0.0545 - val_loss: 0.0134 - val_mean_absolute_error: 0.0430\n",
            "Epoch 201/256\n",
            "8949/8949 [==============================] - 0s 41us/step - loss: 0.0207 - mean_absolute_error: 0.0546 - val_loss: 0.0132 - val_mean_absolute_error: 0.0436\n",
            "Epoch 202/256\n",
            "8949/8949 [==============================] - 0s 42us/step - loss: 0.0206 - mean_absolute_error: 0.0544 - val_loss: 0.0142 - val_mean_absolute_error: 0.0465\n",
            "Epoch 203/256\n",
            "8949/8949 [==============================] - 0s 41us/step - loss: 0.0207 - mean_absolute_error: 0.0547 - val_loss: 0.0134 - val_mean_absolute_error: 0.0425\n",
            "Epoch 204/256\n",
            "8949/8949 [==============================] - 0s 41us/step - loss: 0.0207 - mean_absolute_error: 0.0545 - val_loss: 0.0133 - val_mean_absolute_error: 0.0430\n",
            "Epoch 205/256\n",
            "8949/8949 [==============================] - 0s 42us/step - loss: 0.0207 - mean_absolute_error: 0.0542 - val_loss: 0.0140 - val_mean_absolute_error: 0.0469\n",
            "Epoch 206/256\n",
            "8949/8949 [==============================] - 0s 41us/step - loss: 0.0206 - mean_absolute_error: 0.0545 - val_loss: 0.0150 - val_mean_absolute_error: 0.0479\n",
            "Epoch 207/256\n",
            "8949/8949 [==============================] - 0s 42us/step - loss: 0.0207 - mean_absolute_error: 0.0547 - val_loss: 0.0132 - val_mean_absolute_error: 0.0432\n",
            "Epoch 208/256\n",
            "8949/8949 [==============================] - 0s 40us/step - loss: 0.0206 - mean_absolute_error: 0.0543 - val_loss: 0.0135 - val_mean_absolute_error: 0.0433\n",
            "Epoch 209/256\n",
            "8949/8949 [==============================] - 0s 41us/step - loss: 0.0206 - mean_absolute_error: 0.0542 - val_loss: 0.0137 - val_mean_absolute_error: 0.0433\n",
            "Epoch 210/256\n",
            "8949/8949 [==============================] - 0s 41us/step - loss: 0.0206 - mean_absolute_error: 0.0545 - val_loss: 0.0133 - val_mean_absolute_error: 0.0430\n",
            "Epoch 211/256\n",
            "8949/8949 [==============================] - 0s 41us/step - loss: 0.0207 - mean_absolute_error: 0.0540 - val_loss: 0.0138 - val_mean_absolute_error: 0.0446\n",
            "Epoch 212/256\n",
            "8949/8949 [==============================] - 0s 42us/step - loss: 0.0206 - mean_absolute_error: 0.0541 - val_loss: 0.0136 - val_mean_absolute_error: 0.0444\n",
            "Epoch 213/256\n",
            "8949/8949 [==============================] - 0s 41us/step - loss: 0.0206 - mean_absolute_error: 0.0543 - val_loss: 0.0134 - val_mean_absolute_error: 0.0434\n",
            "Epoch 214/256\n",
            "8949/8949 [==============================] - 0s 41us/step - loss: 0.0206 - mean_absolute_error: 0.0540 - val_loss: 0.0136 - val_mean_absolute_error: 0.0449\n",
            "Epoch 215/256\n",
            "8949/8949 [==============================] - 0s 42us/step - loss: 0.0206 - mean_absolute_error: 0.0545 - val_loss: 0.0138 - val_mean_absolute_error: 0.0452\n",
            "Epoch 216/256\n",
            "8949/8949 [==============================] - 0s 42us/step - loss: 0.0206 - mean_absolute_error: 0.0539 - val_loss: 0.0132 - val_mean_absolute_error: 0.0429\n",
            "Epoch 217/256\n",
            "8949/8949 [==============================] - 0s 40us/step - loss: 0.0206 - mean_absolute_error: 0.0540 - val_loss: 0.0136 - val_mean_absolute_error: 0.0447\n",
            "Epoch 218/256\n",
            "8949/8949 [==============================] - 0s 40us/step - loss: 0.0206 - mean_absolute_error: 0.0538 - val_loss: 0.0141 - val_mean_absolute_error: 0.0449\n",
            "Epoch 219/256\n",
            "8949/8949 [==============================] - 0s 43us/step - loss: 0.0206 - mean_absolute_error: 0.0542 - val_loss: 0.0146 - val_mean_absolute_error: 0.0472\n",
            "Epoch 220/256\n",
            "8949/8949 [==============================] - 0s 42us/step - loss: 0.0206 - mean_absolute_error: 0.0544 - val_loss: 0.0135 - val_mean_absolute_error: 0.0427\n",
            "Epoch 221/256\n",
            "8949/8949 [==============================] - 0s 42us/step - loss: 0.0206 - mean_absolute_error: 0.0536 - val_loss: 0.0137 - val_mean_absolute_error: 0.0452\n",
            "Epoch 222/256\n",
            "8949/8949 [==============================] - 0s 42us/step - loss: 0.0206 - mean_absolute_error: 0.0537 - val_loss: 0.0134 - val_mean_absolute_error: 0.0452\n",
            "Epoch 223/256\n",
            "8949/8949 [==============================] - 0s 42us/step - loss: 0.0206 - mean_absolute_error: 0.0538 - val_loss: 0.0141 - val_mean_absolute_error: 0.0455\n",
            "Epoch 224/256\n",
            "8949/8949 [==============================] - 0s 41us/step - loss: 0.0205 - mean_absolute_error: 0.0538 - val_loss: 0.0140 - val_mean_absolute_error: 0.0444\n",
            "Epoch 225/256\n",
            "8949/8949 [==============================] - 0s 41us/step - loss: 0.0205 - mean_absolute_error: 0.0535 - val_loss: 0.0136 - val_mean_absolute_error: 0.0433\n",
            "Epoch 226/256\n",
            "8949/8949 [==============================] - 0s 42us/step - loss: 0.0206 - mean_absolute_error: 0.0535 - val_loss: 0.0134 - val_mean_absolute_error: 0.0444\n",
            "Epoch 227/256\n",
            "8949/8949 [==============================] - 0s 40us/step - loss: 0.0205 - mean_absolute_error: 0.0538 - val_loss: 0.0140 - val_mean_absolute_error: 0.0445\n",
            "Epoch 228/256\n",
            "8949/8949 [==============================] - 0s 41us/step - loss: 0.0205 - mean_absolute_error: 0.0535 - val_loss: 0.0137 - val_mean_absolute_error: 0.0448\n",
            "Epoch 229/256\n",
            "8949/8949 [==============================] - 0s 40us/step - loss: 0.0205 - mean_absolute_error: 0.0532 - val_loss: 0.0141 - val_mean_absolute_error: 0.0467\n",
            "Epoch 230/256\n",
            "8949/8949 [==============================] - 0s 41us/step - loss: 0.0205 - mean_absolute_error: 0.0540 - val_loss: 0.0135 - val_mean_absolute_error: 0.0424\n",
            "Epoch 231/256\n",
            "8949/8949 [==============================] - 0s 41us/step - loss: 0.0205 - mean_absolute_error: 0.0531 - val_loss: 0.0136 - val_mean_absolute_error: 0.0455\n",
            "Epoch 232/256\n",
            "8949/8949 [==============================] - 0s 40us/step - loss: 0.0205 - mean_absolute_error: 0.0536 - val_loss: 0.0137 - val_mean_absolute_error: 0.0436\n",
            "Epoch 233/256\n",
            "8949/8949 [==============================] - 0s 41us/step - loss: 0.0205 - mean_absolute_error: 0.0534 - val_loss: 0.0132 - val_mean_absolute_error: 0.0421\n",
            "Epoch 234/256\n",
            "8949/8949 [==============================] - 0s 43us/step - loss: 0.0204 - mean_absolute_error: 0.0536 - val_loss: 0.0133 - val_mean_absolute_error: 0.0417\n",
            "Epoch 235/256\n",
            "8949/8949 [==============================] - 0s 41us/step - loss: 0.0204 - mean_absolute_error: 0.0530 - val_loss: 0.0142 - val_mean_absolute_error: 0.0469\n",
            "Epoch 236/256\n",
            "8949/8949 [==============================] - 0s 41us/step - loss: 0.0204 - mean_absolute_error: 0.0539 - val_loss: 0.0131 - val_mean_absolute_error: 0.0415\n",
            "Epoch 237/256\n",
            "8949/8949 [==============================] - 0s 42us/step - loss: 0.0204 - mean_absolute_error: 0.0533 - val_loss: 0.0145 - val_mean_absolute_error: 0.0452\n",
            "Epoch 238/256\n",
            "8949/8949 [==============================] - 0s 42us/step - loss: 0.0205 - mean_absolute_error: 0.0531 - val_loss: 0.0134 - val_mean_absolute_error: 0.0439\n",
            "Epoch 239/256\n",
            "8949/8949 [==============================] - 0s 42us/step - loss: 0.0204 - mean_absolute_error: 0.0530 - val_loss: 0.0135 - val_mean_absolute_error: 0.0442\n",
            "Epoch 240/256\n",
            "8949/8949 [==============================] - 0s 43us/step - loss: 0.0204 - mean_absolute_error: 0.0531 - val_loss: 0.0140 - val_mean_absolute_error: 0.0451\n",
            "Epoch 241/256\n",
            "8949/8949 [==============================] - 0s 42us/step - loss: 0.0204 - mean_absolute_error: 0.0530 - val_loss: 0.0134 - val_mean_absolute_error: 0.0436\n",
            "Epoch 242/256\n",
            "8949/8949 [==============================] - 0s 41us/step - loss: 0.0203 - mean_absolute_error: 0.0532 - val_loss: 0.0138 - val_mean_absolute_error: 0.0433\n",
            "Epoch 243/256\n",
            "8949/8949 [==============================] - 0s 41us/step - loss: 0.0204 - mean_absolute_error: 0.0529 - val_loss: 0.0141 - val_mean_absolute_error: 0.0445\n",
            "Epoch 244/256\n",
            "8949/8949 [==============================] - 0s 41us/step - loss: 0.0204 - mean_absolute_error: 0.0536 - val_loss: 0.0136 - val_mean_absolute_error: 0.0420\n",
            "Epoch 245/256\n",
            "8949/8949 [==============================] - 0s 41us/step - loss: 0.0204 - mean_absolute_error: 0.0526 - val_loss: 0.0133 - val_mean_absolute_error: 0.0430\n",
            "Epoch 246/256\n",
            "8949/8949 [==============================] - 0s 39us/step - loss: 0.0204 - mean_absolute_error: 0.0532 - val_loss: 0.0138 - val_mean_absolute_error: 0.0429\n",
            "Epoch 247/256\n",
            "8949/8949 [==============================] - 0s 40us/step - loss: 0.0204 - mean_absolute_error: 0.0531 - val_loss: 0.0134 - val_mean_absolute_error: 0.0426\n",
            "Epoch 248/256\n",
            "8949/8949 [==============================] - 0s 41us/step - loss: 0.0204 - mean_absolute_error: 0.0530 - val_loss: 0.0133 - val_mean_absolute_error: 0.0432\n",
            "Epoch 249/256\n",
            "8949/8949 [==============================] - 0s 40us/step - loss: 0.0204 - mean_absolute_error: 0.0530 - val_loss: 0.0138 - val_mean_absolute_error: 0.0431\n",
            "Epoch 250/256\n",
            "8949/8949 [==============================] - 0s 40us/step - loss: 0.0203 - mean_absolute_error: 0.0531 - val_loss: 0.0132 - val_mean_absolute_error: 0.0414\n",
            "Epoch 251/256\n",
            "8949/8949 [==============================] - 0s 40us/step - loss: 0.0204 - mean_absolute_error: 0.0530 - val_loss: 0.0137 - val_mean_absolute_error: 0.0435\n",
            "Epoch 252/256\n",
            "8949/8949 [==============================] - 0s 41us/step - loss: 0.0204 - mean_absolute_error: 0.0527 - val_loss: 0.0137 - val_mean_absolute_error: 0.0435\n",
            "Epoch 253/256\n",
            "8949/8949 [==============================] - 0s 40us/step - loss: 0.0204 - mean_absolute_error: 0.0530 - val_loss: 0.0135 - val_mean_absolute_error: 0.0423\n",
            "Epoch 254/256\n",
            "8949/8949 [==============================] - 0s 41us/step - loss: 0.0203 - mean_absolute_error: 0.0527 - val_loss: 0.0135 - val_mean_absolute_error: 0.0438\n",
            "Epoch 255/256\n",
            "8949/8949 [==============================] - 0s 41us/step - loss: 0.0204 - mean_absolute_error: 0.0527 - val_loss: 0.0132 - val_mean_absolute_error: 0.0446\n",
            "Epoch 256/256\n",
            "8949/8949 [==============================] - 0s 40us/step - loss: 0.0203 - mean_absolute_error: 0.0529 - val_loss: 0.0146 - val_mean_absolute_error: 0.0461\n",
            "Test accuarcy: 27.82%\n"
          ],
          "name": "stdout"
        }
      ]
    },
    {
      "cell_type": "code",
      "metadata": {
        "id": "f9_ffe8cwKzQ",
        "colab_type": "code",
        "outputId": "0548d038-dbb4-41a5-9a2d-303169f352bf",
        "colab": {
          "base_uri": "https://localhost:8080/",
          "height": 550
        }
      },
      "source": [
        "prediction = model.predict(ts_test_x)\n",
        "print(prediction[:])"
      ],
      "execution_count": 0,
      "outputs": [
        {
          "output_type": "stream",
          "text": [
            "[[1.2430215e-01]\n",
            " [4.8895329e-02]\n",
            " [8.3446503e-07]\n",
            " [9.8806667e-01]\n",
            " [8.5453790e-01]\n",
            " [6.8247318e-06]\n",
            " [2.6226044e-06]\n",
            " [3.1655300e-01]\n",
            " [8.6742771e-01]\n",
            " [5.6624413e-07]\n",
            " [1.5003383e-02]\n",
            " [3.4515649e-02]\n",
            " [2.7450371e-01]\n",
            " [7.5425029e-02]\n",
            " [2.3734748e-02]\n",
            " [3.0083656e-02]\n",
            " [4.0436757e-01]\n",
            " [4.9571812e-02]\n",
            " [9.9194843e-01]\n",
            " [7.7070463e-01]\n",
            " [1.0551992e-01]\n",
            " [1.9061393e-01]\n",
            " [2.3809522e-01]\n",
            " [1.8385604e-01]\n",
            " [3.7792638e-01]\n",
            " [3.1844702e-02]\n",
            " [1.7919384e-02]\n",
            " [3.2713108e-02]\n",
            " [7.2119132e-02]\n",
            " [3.9128181e-02]]\n"
          ],
          "name": "stdout"
        }
      ]
    },
    {
      "cell_type": "code",
      "metadata": {
        "id": "apup8ZTvwZPE",
        "colab_type": "code",
        "outputId": "fe34aea5-2356-41e0-c7c5-7affdfc443b4",
        "colab": {
          "base_uri": "https://localhost:8080/",
          "height": 52
        }
      },
      "source": [
        "print(ts_test_y[:])"
      ],
      "execution_count": 0,
      "outputs": [
        {
          "output_type": "stream",
          "text": [
            "[0. 0. 0. 0. 0. 0. 0. 0. 0. 0. 0. 0. 0. 0. 0. 0. 0. 0. 1. 0. 0. 0. 0. 0.\n",
            " 0. 0. 0. 0. 0. 0.]\n"
          ],
          "name": "stdout"
        }
      ]
    },
    {
      "cell_type": "code",
      "metadata": {
        "id": "Jn7IjAqAwgg3",
        "colab_type": "code",
        "outputId": "41692d1d-e5bc-4f82-c606-a58335a39d3d",
        "colab": {
          "base_uri": "https://localhost:8080/",
          "height": 35
        }
      },
      "source": [
        "print(np.max(prediction[:]))"
      ],
      "execution_count": 0,
      "outputs": [
        {
          "output_type": "stream",
          "text": [
            "0.9999987\n"
          ],
          "name": "stdout"
        }
      ]
    }
  ]
}